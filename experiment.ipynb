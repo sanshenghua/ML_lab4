{
 "cells": [
  {
   "cell_type": "code",
   "execution_count": 29,
   "metadata": {
    "collapsed": true
   },
   "outputs": [],
   "source": [
    "import numpy as np\n",
    "def loadFileToR(R, file):\n",
    "    f = open(file, 'r')                   #以读方式打开文件 \n",
    "    result = list() \n",
    "    for line in f.readlines():                              #依次读取每行 \n",
    "        line = line.strip()                                    #去掉每行头尾空白 \n",
    "        if not len(line) or line.startswith('#'):       #判断是否是空行或注释行 \n",
    "            continue                                            #是的话，跳过不处理 \n",
    "        result.append(line)       \n",
    "    #保存\n",
    "    for i in range(len(result)):\n",
    "        user = int(result[i].split()[0])-1   \n",
    "        movie = int(result[i].split()[1])-1\n",
    "        rating = int(result[i].split()[2])-1\n",
    "        R[user][movie] = rating\n",
    "\n",
    "def matrix_factorization(R, R_test, P, Q, K, steps=5000, alpha=0.05, beta=0.01):\n",
    "    Q = Q.T\n",
    "    error = []\n",
    "    iter_count = 0\n",
    "    while  iter_count < steps:\n",
    "        i = random.randint(0, len(R)-1)\n",
    "        j = random.randint(0, len(R[i])-1)            \n",
    "        if R[i][j] > 0:\n",
    "            iter_count+=1\n",
    "            eij = R[i][j] - np.dot(P[i,:],Q[:,j])\n",
    "            for k in range(K):\n",
    "                P[i][k] = P[i][k] + alpha * (2 * eij * Q[k][j] - beta * P[i][k])\n",
    "                Q[k][j] = Q[k][j] + alpha * (2 * eij * P[i][k] - beta * Q[k][j])\n",
    "       \n",
    "            e = 0\n",
    "            for i in range(len(R_test)):\n",
    "                for j in range(len(R_test[i])):\n",
    "                    if R_test[i][j] > 0:\n",
    "                        e = e + pow(R_test[i][j] - np.dot(P[i,:],Q[:,j]), 2)\n",
    "                        for k in range(K):\n",
    "                            e = e + (beta/2) * ( pow(P[i][k],2) + pow(Q[k][j],2) )\n",
    "            #if(iter_count%10 == 0):               \n",
    "            error.append(e)                \n",
    "            if e < 0.001:\n",
    "                break\n",
    "    return P, Q.T, error    "
   ]
  },
  {
   "cell_type": "code",
   "execution_count": 30,
   "metadata": {},
   "outputs": [
    {
     "name": "stdout",
     "output_type": "stream",
     "text": [
      "(943, 1682)\n",
      "(943, 1682)\n"
     ]
    }
   ],
   "source": [
    "import numpy as np\n",
    "import matplotlib.pyplot as plt\n",
    "import random\n",
    "N = 943\n",
    "M = 1682\n",
    "R = np.zeros((N,M))\n",
    "R_test = np.zeros((N,M))\n",
    "trainFile = \"C:/Users/zhancongcong/Desktop/MLdata/ml-100k/u1.base\"\n",
    "testFile = \"C:/Users/zhancongcong/Desktop/MLdata/ml-100k/u1.test\"\n",
    "loadFileToR(R, trainFile)\n",
    "loadFileToR(R_test,testFile )\n",
    "print(R.shape)\n",
    "print(R_test.shape)\n",
    "K = 10\n",
    "P = np.random.rand(N,K)\n",
    "Q = np.random.rand(M,K)\n",
    "nP, nQ, LOSS_T = matrix_factorization(R, R_test, P, Q, K)"
   ]
  },
  {
   "cell_type": "code",
   "execution_count": 25,
   "metadata": {},
   "outputs": [
    {
     "name": "stdout",
     "output_type": "stream",
     "text": [
      "18609\n"
     ]
    }
   ],
   "source": [
    "numOfNuzero = 0 #the number of unzero in testdata\n",
    "for i in range(len(R_test)):\n",
    "    for j in range(len(R_test[i])):\n",
    "        if R_test[i][j] > 0:\n",
    "            numOfNuzero+=1\n",
    "print(numOfNuzero)            "
   ]
  },
  {
   "cell_type": "code",
   "execution_count": 27,
   "metadata": {},
   "outputs": [
    {
     "name": "stdout",
     "output_type": "stream",
     "text": [
      "[[ 4.15073777  3.28090642  2.38295521 ...,  2.82172723  1.92177459\n",
      "   2.00965838]\n",
      " [ 3.91980021  3.25035865  2.10435366 ...,  2.21380899  1.69187849\n",
      "   1.83863892]\n",
      " [ 2.97952406  3.42912046  2.70236267 ...,  2.63814388  1.70486516\n",
      "   1.9323134 ]\n",
      " ..., \n",
      " [ 3.0838887   3.10838514  2.28817682 ...,  2.35369038  1.94177274\n",
      "   1.92013359]\n",
      " [ 3.38430873  3.44678791  3.00641411 ...,  3.21744608  1.81027918\n",
      "   2.02293694]\n",
      " [ 2.21331715  2.25630302  1.82764273 ...,  1.85568282  1.36057517\n",
      "   1.29081828]]\n"
     ]
    },
    {
     "data": {
      "image/png": "[encoded data removed]",
      "text/plain": [
       "<matplotlib.figure.Figure at 0x2c763399320>"
      ]
     },
     "metadata": {},
     "output_type": "display_data"
    }
   ],
   "source": [
    "R_new = np.dot(nP, nQ.T)\n",
    "print(R_new)\n",
    "LOSS_T = np.array(LOSS_T)\n",
    "plt.figure(figsize=(10,6))\n",
    "plt.plot( LOSS_T/numOfNuzero, 'r', label=\"testData\")\n",
    "plt.legend()\n",
    "plt.show()"
   ]
  },
  {
   "cell_type": "code",
   "execution_count": 28,
   "metadata": {},
   "outputs": [
    {
     "name": "stdout",
     "output_type": "stream",
     "text": [
      "0.833856816119\n"
     ]
    }
   ],
   "source": [
    "#不带正则化的每个sample的平均loss \n",
    "ee = 0\n",
    "for i in range(len(R_test)):\n",
    "    for j in range(len(R_test[i])):\n",
    "        if R_test[i][j] > 0:\n",
    "            ee = ee + abs(R_test[i][j] - R_new[i][j])\n",
    "print(ee/numOfNuzero)                        "
   ]
  }
 ],
 "metadata": {
  "kernelspec": {
   "display_name": "Python 3",
   "language": "python",
   "name": "python3"
  },
  "language_info": {
   "codemirror_mode": {
    "name": "ipython",
    "version": 3
   },
   "file_extension": ".py",
   "mimetype": "text/x-python",
   "name": "python",
   "nbconvert_exporter": "python",
   "pygments_lexer": "ipython3",
   "version": "3.6.3"
  }
 },
 "nbformat": 4,
 "nbformat_minor": 2
}
